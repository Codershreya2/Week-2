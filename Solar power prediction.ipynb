{
 "cells": [
  {
   "cell_type": "markdown",
   "metadata": {},
   "source": [
    "## Solar Power Prediction Using Linear Regression Model\n"
   ]
  },
  {
   "cell_type": "markdown",
   "metadata": {},
   "source": [
    "pip install pandas\n",
    "Defaulting to user installation because normal site-packages is not writeable\n",
    "Requirement already satisfied: pandas in c:\\users\\surug\\appdata\\roaming\\python\\python313\\site-packages (2.2.3)\n",
    "Requirement already satisfied: numpy>=1.26.0 in c:\\users\\surug\\appdata\\roaming\\python\\python313\\site-packages (from pandas) (2.2.2)\n",
    "Requirement already satisfied: python-dateutil>=2.8.2 in c:\\users\\surug\\appdata\\roaming\\python\\python313\\site-packages (from pandas) (2.9.0.post0)\n",
    "Requirement already satisfied: pytz>=2020.1 in c:\\users\\surug\\appdata\\roaming\\python\\python313\\site-packages (from pandas) (2024.2)\n",
    "Requirement already satisfied: tzdata>=2022.7 in c:\\users\\surug\\appdata\\roaming\\python\\python313\\site-packages (from pandas) (2025.1)\n",
    "Requirement already satisfied: six>=1.5 in c:\\users\\surug\\appdata\\roaming\\python\\python313\\site-packages (from python-dateutil>=2.8.2->pandas) (1.17.0)\n",
    "Note: you may need to restart the kernel to use updated packages."
   ]
  },
  {
   "cell_type": "code",
   "execution_count": null,
   "metadata": {},
   "outputs": [
    {
     "ename": "",
     "evalue": "",
     "output_type": "error",
     "traceback": [
      "\u001b[1;31mRunning cells with 'langactive (Python 3.12.8)' requires the ipykernel package.\n",
      "\u001b[1;31mRun the following command to install 'ipykernel' into the Python environment. \n",
      "\u001b[1;31mCommand: 'conda install -n langactive ipykernel --update-deps --force-reinstall'"
     ]
    }
   ],
   "source": [
    "# load the dataset\n",
    "df = pd.read_csv('solarpowergeneration.csv')\n",
    "# display the first 5 rows of the dataset\n",
    "df.head()"
   ]
  },
  {
   "cell_type": "code",
   "execution_count": null,
   "metadata": {},
   "outputs": [],
   "source": [
    "# to check the total number of rows and cols\n",
    "df.shape"
   ]
  },
  {
   "cell_type": "code",
   "execution_count": null,
   "metadata": {},
   "outputs": [],
   "source": [
    "# display summary\n",
    "df.describe()"
   ]
  },
  {
   "cell_type": "code",
   "execution_count": null,
   "metadata": {},
   "outputs": [],
   "source": [
    "# check the information of the dataset\n",
    "df.info()"
   ]
  },
  {
   "cell_type": "code",
   "execution_count": null,
   "metadata": {},
   "outputs": [],
   "source": [
    "# check for missing values\n",
    "df.isnull().sum()\n"
   ]
  },
  {
   "cell_type": "code",
   "execution_count": null,
   "metadata": {},
   "outputs": [],
   "source": [
    "# check for missing values\n",
    "df.isnull()"
   ]
  },
  {
   "cell_type": "code",
   "execution_count": null,
   "metadata": {},
   "outputs": [],
   "source": [
    "# check for duplicate values\n",
    "df.duplicated()"
   ]
  },
  {
   "cell_type": "code",
   "execution_count": null,
   "metadata": {},
   "outputs": [],
   "source": [
    "# check for duplicate values\n",
    "df.duplicated().sum()\n",
    "import matplotlib.pyplot as plt"
   ]
  },
  {
   "cell_type": "code",
   "execution_count": null,
   "metadata": {},
   "outputs": [],
   "source": [
    "# plot the distribution of power\n",
    "plt.figure(figsize=(10,6))\n",
    "sns.histplot(df['generated_power_kw'], bins=30, kde=True, color='blue')\n",
    "plt.title('Distribution of Power Generated(kW)')\n",
    "plt.xlabel('Power Generated (kW)')\n",
    "plt.ylabel('Frequency')\n",
    "plt.show()"
   ]
  },
  {
   "cell_type": "code",
   "execution_count": null,
   "metadata": {},
   "outputs": [],
   "source": [
    "df[df.columns[:9]].hist(bins=30, figsize=(15,10))\n",
    "plt.show()"
   ]
  },
  {
   "cell_type": "code",
   "execution_count": null,
   "metadata": {},
   "outputs": [],
   "source": [
    "df[df.columns[9:18]].hist(bins=30, figsize=(15,10))\n",
    "plt.show()"
   ]
  },
  {
   "cell_type": "code",
   "execution_count": null,
   "metadata": {},
   "outputs": [],
   "source": [
    "df[df.columns[18:21]].hist(bins=30, figsize=(15,10))\n",
    "plt.show()"
   ]
  },
  {
   "cell_type": "code",
   "execution_count": null,
   "metadata": {},
   "outputs": [],
   "source": [
    "# Bivariate analysis\n",
    "plt.figure(figsize=(15, 30))\n",
    "for i, column in enumerate(df.columns):\n",
    "    plt.subplot(7, 3, i+1)\n",
    "    plt.scatter(df[column], df['generated_power_kw'])\n",
    "    plt.title(f'{column} vs generated power (kw)')\n",
    "    plt.xlabel(column)\n",
    "    plt.ylabel('generated_power (kw)')\n",
    "plt.tight_layout()\n",
    "plt.show()"
   ]
  },
  {
   "cell_type": "code",
   "execution_count": null,
   "metadata": {},
   "outputs": [],
   "source": [
    "df.corr()"
   ]
  },
  {
   "cell_type": "code",
   "execution_count": null,
   "metadata": {},
   "outputs": [],
   "source": [
    "plt.figure(figsize=(15,10))\n",
    "sns.heatmap(df.corr(), cmap='coolwarm', annot=True, fmt= '.2f')"
   ]
  },
  {
   "cell_type": "code",
   "execution_count": null,
   "metadata": {},
   "outputs": [],
   "source": [
    "# Outlier\n",
    "plt.figure(figsize=(15,30))\n",
    "for i, column in enumerate(df.columns):\n",
    "    plt.subplot(7, 3, i+1)\n",
    "    sns.boxplot(df[column])\n",
    "    plt.title(f'{column} boxplot')\n",
    "plt.show()\n"
   ]
  }
 ],
 "metadata": {
  "kernelspec": {
   "display_name": "langactive",
   "language": "python",
   "name": "python3"
  },
  "language_info": {
   "name": "python",
   "version": "3.12.8"
  }
 },
 "nbformat": 4,
 "nbformat_minor": 2
}
